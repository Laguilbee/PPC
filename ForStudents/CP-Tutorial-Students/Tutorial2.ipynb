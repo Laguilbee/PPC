{
 "cells": [
  {
   "cell_type": "markdown",
   "metadata": {},
   "source": [
    "# Tutorial 2 - The Queens & The Art of Branching"
   ]
  },
  {
   "cell_type": "markdown",
   "metadata": {},
   "source": [
    "**Important:** You must fully complete Tutorial $i-1$ before starting Tutorial $i$ ($i>1$).\n",
    "\n",
    "Constraint programming is used to solve highly combinatorial and complex problems. \n",
    "In order to master CP, you need to get used to the philosophy behind this approach as well as the different \n",
    "techniques used along with it. We will guide you in this process step by step in the upcoming tutorials. We will be using \"toy\" puzzles/problems only for the purpose of learning different faces of CP. In real life problems, things get messed up easily and require decision and policy makes to agree opon the problem at hand.. (Trust us, we've been there..) \n",
    "\n",
    "In this tutorial, we use the N-Queens problem, one of oldest and classical problems solved efficiently by CP, as a case study. "
   ]
  },
  {
   "cell_type": "markdown",
   "metadata": {},
   "source": [
    "## 1. The N-Queens problem"
   ]
  },
  {
   "cell_type": "markdown",
   "metadata": {},
   "source": [
    "You are given an N-by-N chessboard, and your goal is to place N chess queens on it so that no two queens threaten each other:\n",
    "\n",
    "<div class=\"row\" style=\"margin-top: 10px\">\n",
    "    <div class=\"col-md-5\">\n",
    "        <img src=\"display/images/empty-chessboard.png\" style=\"margin-right: 0; width: 160px;\" />\n",
    "    </div>\n",
    "    <div class=\"col-md-2\" style=\"display: table\">\n",
    "        <i class=\"fa fa-arrow-right\" style=\"display: table-cell; font-size: 50px; \n",
    "        margin: auto; text-align: center; vertical-align: middle; height: 150px\"></i>\n",
    "    </div>\n",
    "    <div class=\"col-md-5\">\n",
    "        <img src=\"display/images/nqueens8-chessboard.png\" style=\"margin-left: 0; width: 160px;\" />\n",
    "    </div>\n",
    "</div>\n",
    "\n",
    "Formally, a solution to the N-queens problem requires that no two queens share the same row, column or diagnoal."
   ]
  },
  {
   "cell_type": "markdown",
   "metadata": {},
   "source": [
    "### 1.1. Model without global constraints"
   ]
  },
  {
   "cell_type": "markdown",
   "metadata": {},
   "source": [
    "**Exercice**: Create a function `decomposition_model(N)` that models the problem using only binary inequality constrants (no global constraint) and returns an instance of `CpoModel` for the n-queens problem with `N` queens."
   ]
  },
  {
   "cell_type": "code",
   "execution_count": 1,
   "metadata": {},
   "outputs": [
    {
     "name": "stdout",
     "output_type": "stream",
     "text": [
      "Defaulting to user installation because normal site-packages is not writeable\n",
      "Requirement already satisfied: docplex in /home/guilbot/.local/lib/python3.11/site-packages (2.25.236)\n",
      "Requirement already satisfied: six in /usr/local/insa/anaconda/lib/python3.11/site-packages (from docplex) (1.16.0)\n"
     ]
    }
   ],
   "source": [
    "!pip install docplex"
   ]
  },
  {
   "cell_type": "code",
   "execution_count": 2,
   "metadata": {},
   "outputs": [
    {
     "name": "stderr",
     "output_type": "stream",
     "text": [
      "/home/guilbot/.local/lib/python3.11/site-packages/docplex/cp/__init__.py:62: RuntimeWarning: docplex.cp is supported by Python versions 2.7.9+, 3.4.x, to 3.10.x, not '3.11.3.final.0'. Use it at your own risk.\n",
      "  warnings.warn(msg, RuntimeWarning)\n"
     ]
    }
   ],
   "source": [
    "from docplex.cp.model import *\n",
    "context.solver.agent = 'local'\n",
    "#context.solver.local.execfile = 'Path to the binary cpoptimizer'\n",
    "context.solver.local.execfile = '/usr/local/insa/ibm_cplex_studio_2211/cpoptimizer/bin/x86-64_linux/cpoptimizer'\n",
    "context.params.set_attribute('Presolve', 'Off')\n",
    "context.params.set_attribute('Workers', 1)"
   ]
  },
  {
   "cell_type": "code",
   "execution_count": 6,
   "metadata": {},
   "outputs": [],
   "source": [
    "def model_decomposition(n) :\n",
    "\n",
    "    model = CpoModel(name='model_decomposition')\n",
    "    queens = [model.integer_var(0, n - 1, f\"queen_{i}\") for i in range(n)]\n",
    "    \n",
    "    for i in range(n):\n",
    "        for j in range(i):\n",
    "            model.add(queens[i] != queens[j])\n",
    "            model.add(abs(queens[i] - queens[j]) != abs(i - j))\n",
    "            \n",
    "    return model"
   ]
  },
  {
   "cell_type": "markdown",
   "metadata": {},
   "source": [
    "**Exercice:** Test your function by solving the n-queens problem for small values of $N$ ($N < 20$).\n",
    "\n",
    "<div class=\"alert alert-block alert-info\">\n",
    "    \n",
    "Use the `display.n_queens` function in order to display a solution for the n-queens problem. This function can take a list of `int` corresponding to the column of the queens in order to display them.\n",
    "    \n",
    "</div>"
   ]
  },
  {
   "cell_type": "code",
   "execution_count": 9,
   "metadata": {},
   "outputs": [],
   "source": [
    "%matplotlib inline"
   ]
  },
  {
   "cell_type": "code",
   "execution_count": 10,
   "metadata": {},
   "outputs": [
    {
     "name": "stdout",
     "output_type": "stream",
     "text": [
      " ! --------------------------------------------------- CP Optimizer 22.1.1.0 --\n",
      " ! Satisfiability problem - 10 variables, 90 constraints\n",
      " ! Presolve             = Off\n",
      " ! Workers              = 1\n",
      " ! SearchType           = DepthFirst\n",
      " ! Initial process time : 0.00s (0.00s extraction + 0.00s propagation)\n",
      " !  . Log search space  : 33.2 (before), 33.2 (after)\n",
      " !  . Memory usage      : 299.3 kB (before), 299.3 kB (after)\n",
      " ! Using sequential search.\n",
      " ! ----------------------------------------------------------------------------\n",
      " !               Branches  Non-fixed            Branch decision\n",
      " *                    105  0.00s                  6  = queen_3\n",
      " ! ----------------------------------------------------------------------------\n",
      " ! Search completed, 1 solution found.\n",
      " ! ----------------------------------------------------------------------------\n",
      " ! Number of branches     : 105\n",
      " ! Number of fails        : 50\n",
      " ! Total memory usage     : 648.8 kB (608.6 kB CP Optimizer + 40.2 kB Concert)\n",
      " ! Time spent in solve    : 0.00s (0.00s engine + 0.00s extraction)\n",
      " ! Search speed (br. / s) : 10500.0\n",
      " ! ----------------------------------------------------------------------------\n"
     ]
    },
    {
     "data": {
      "image/png": "[encoded data removed]",
      "text/plain": [
       "<Figure size 500x500 with 1 Axes>"
      ]
     },
     "metadata": {},
     "output_type": "display_data"
    }
   ],
   "source": [
    "import display\n",
    "\n",
    "model = model_decomposition(10).start_search(SearchType=\"DepthFirst\")\n",
    "sol = model.solve()\n",
    "display.n_queens(sol.get_all_var_solutions())"
   ]
  },
  {
   "cell_type": "markdown",
   "metadata": {},
   "source": [
    "**Question**: How many solutions are there for $N = 3,~\\ldots,~10$? \n",
    "\n",
    "**Note:** To answer this question, you must force the solver to use a depth first strategy using  `CpoModel.start_search(SearchType=\"DepthFirst\")`."
   ]
  },
  {
   "cell_type": "code",
   "execution_count": 144,
   "metadata": {},
   "outputs": [],
   "source": [
    "6 def countSolution(lsols):\n",
    "    count=0\n",
    "    for sol in lsols:\n",
    "        count = count +1\n",
    "        \n",
    "    return count"
   ]
  },
  {
   "cell_type": "code",
   "execution_count": 145,
   "metadata": {
    "scrolled": false
   },
   "outputs": [
    {
     "name": "stdout",
     "output_type": "stream",
     "text": [
      "Nombre de solution pour n =  3  est de  0\n",
      "Nombre de solution pour n =  4  est de  2\n",
      "Nombre de solution pour n =  5  est de  10\n",
      "Nombre de solution pour n =  6  est de  4\n",
      "Nombre de solution pour n =  7  est de  40\n",
      "Nombre de solution pour n =  8  est de  92\n",
      "Nombre de solution pour n =  9  est de  352\n",
      "Nombre de solution pour n =  10  est de  724\n"
     ]
    }
   ],
   "source": [
    "N = [3,4,5,6,7,8,9,10]\n",
    "for n in N:\n",
    "    lsols = model_decomposition(n).start_search(SearchType=\"DepthFirst\",LogVerbosity=\"Quiet\")\n",
    "    NumberOfSolutions = countSolution(lsols)\n",
    "    print(\"Nombre de solution pour n = \",n,\" est de \",NumberOfSolutions)"
   ]
  },
  {
   "cell_type": "markdown",
   "metadata": {},
   "source": [
    "### 1.2. Model with global constraints"
   ]
  },
  {
   "cell_type": "markdown",
   "metadata": {},
   "source": [
    "**Exercice:** Create a function `global_constraint_model(N)` that models and returns an instance of `CpoModel` for the n-queens problem with `N` queens, using **only** and exaclty 3 global constraints."
   ]
  },
  {
   "cell_type": "code",
   "execution_count": 146,
   "metadata": {},
   "outputs": [],
   "source": [
    "def global_constraint_model(NB_QUEEN) :\n",
    "\n",
    "    mdl = CpoModel(name='global_constraint_model')\n",
    "\n",
    "    # Create column index of each queen\n",
    "    x = mdl.integer_var_list(NB_QUEEN, 0, NB_QUEEN - 1, \"X\")\n",
    "    #x = [model.integer_var(0, NB_QUEEN - 1, f\"queen_{i}\") for i in range(NB_QUEEN)]\n",
    "    \n",
    "    # One queen per raw\n",
    "    mdl.add(mdl.all_diff(x))\n",
    "\n",
    "    # One queen per diagonal xi - xj != i - j\n",
    "    mdl.add(mdl.all_diff(x[i] + i for i in range(NB_QUEEN)))\n",
    "\n",
    "    # One queen per diagonal xi - xj != j - i\n",
    "    mdl.add(mdl.all_diff(x[i] - i for i in range(NB_QUEEN)))\n",
    "            \n",
    "    return mdl"
   ]
  },
  {
   "cell_type": "markdown",
   "metadata": {},
   "source": [
    "**Exercice:** Test your function by solving the n-queens problem for small values of $N$ ($N < 20$)."
   ]
  },
  {
   "cell_type": "code",
   "execution_count": 147,
   "metadata": {},
   "outputs": [
    {
     "name": "stdout",
     "output_type": "stream",
     "text": [
      " ! --------------------------------------------------- CP Optimizer 22.1.1.0 --\n",
      " ! Satisfiability problem - 10 variables, 3 constraints\n",
      " ! Presolve             = Off\n",
      " ! Workers              = 1\n",
      " ! Initial process time : 0.00s (0.00s extraction + 0.00s propagation)\n",
      " !  . Log search space  : 33.2 (before), 33.2 (after)\n",
      " !  . Memory usage      : 267.3 kB (before), 267.3 kB (after)\n",
      " ! Using sequential search.\n",
      " ! ----------------------------------------------------------------------------\n",
      " !               Branches  Non-fixed            Branch decision\n",
      " *                     11  0.00s                  2 != X_1\n",
      " ! ----------------------------------------------------------------------------\n",
      " ! Search completed, 1 solution found.\n",
      " ! ----------------------------------------------------------------------------\n",
      " ! Number of branches     : 11\n",
      " ! Number of fails        : 3\n",
      " ! Total memory usage     : 707.3 kB (667.1 kB CP Optimizer + 40.2 kB Concert)\n",
      " ! Time spent in solve    : 0.00s (0.00s engine + 0.00s extraction)\n",
      " ! Search speed (br. / s) : 1100.0\n",
      " ! ----------------------------------------------------------------------------\n"
     ]
    },
    {
     "data": {
      "image/png": "[encoded data removed]",
      "text/plain": [
       "<Figure size 500x500 with 1 Axes>"
      ]
     },
     "metadata": {},
     "output_type": "display_data"
    }
   ],
   "source": [
    "model = global_constraint_model(10)\n",
    "\n",
    "sol = model.solve()\n",
    "display.n_queens(sol.get_all_var_solutions())"
   ]
  },
  {
   "cell_type": "markdown",
   "metadata": {},
   "source": [
    "**Question**: How many solutions are there for $N = 3,~\\ldots,~10$?\n",
    "\n",
    "**Important:** You should obtain the same number as the previous model!"
   ]
  },
  {
   "cell_type": "code",
   "execution_count": 148,
   "metadata": {},
   "outputs": [
    {
     "name": "stdout",
     "output_type": "stream",
     "text": [
      "Nombre de solution pour n =  3  est de  0\n",
      "Nombre de solution pour n =  4  est de  2\n",
      "Nombre de solution pour n =  5  est de  10\n",
      "Nombre de solution pour n =  6  est de  4\n",
      "Nombre de solution pour n =  7  est de  40\n",
      "Nombre de solution pour n =  8  est de  92\n",
      "Nombre de solution pour n =  9  est de  352\n",
      "Nombre de solution pour n =  10  est de  724\n"
     ]
    }
   ],
   "source": [
    "N = [3,4,5,6,7,8,9,10]\n",
    "for n in N:\n",
    "    lsols = global_constraint_model(n).start_search(SearchType=\"DepthFirst\",LogVerbosity=\"Quiet\")\n",
    "    NumberOfSolutions = countSolution(lsols)\n",
    "    print(\"Nombre de solution pour n = \",n,\" est de \",NumberOfSolutions)"
   ]
  },
  {
   "cell_type": "markdown",
   "metadata": {},
   "source": [
    "## 2. Comparison of the two models"
   ]
  },
  {
   "cell_type": "markdown",
   "metadata": {},
   "source": [
    "We will compare the two models properly. \n",
    "\n",
    "**Exercice:** Consider the `run(model, params)` function that we used in the first tutorial and paste it here."
   ]
  },
  {
   "cell_type": "code",
   "execution_count": 151,
   "metadata": {},
   "outputs": [],
   "source": [
    "def run(model, params):\n",
    "    # Run the solver with the given parameters\n",
    "    sol = model.solve(TimeLimit=params.TimeLimit, LogVerbosity=params.LogVerbosity, LogPeriod=params.LogPeriod)\n",
    "\n",
    "    # Extract relevant statistics\n",
    "    total_runtime = sol.get_solver_infos()['TotalTime']\n",
    "    num_nodes = sol.get_solver_infos()['NumberOfBranches']\n",
    "    search_status = sol.get_solve_status()\n",
    "\n",
    "    return (num_nodes, total_runtime, search_status)"
   ]
  },
  {
   "cell_type": "markdown",
   "metadata": {},
   "source": [
    "### 2.1. Basic comparison\n",
    "\n",
    "To compare the two models, we will fix the time limit to 5 seconds, i.e. `TimeLimit=5`, while keeping all the other parameters to their default values."
   ]
  },
  {
   "cell_type": "markdown",
   "metadata": {},
   "source": [
    "**Exercice:** Compare the two models for $N \\in \\{200, 400, 600, .., 2000 \\}$. \n",
    "\n",
    "<div class=\"alert alert-block alert-info\">\n",
    "    \n",
    "By *comparing* we mean plotting the runtime **and** the number of decisions made by the solver for each model as a function of $n$\n",
    "    \n",
    "</div>"
   ]
  },
  {
   "cell_type": "code",
   "execution_count": 154,
   "metadata": {},
   "outputs": [
    {
     "ename": "AttributeError",
     "evalue": "'tuple' object has no attribute 'total_runtime'",
     "output_type": "error",
     "traceback": [
      "\u001b[0;31m---------------------------------------------------------------------------\u001b[0m",
      "\u001b[0;31mAttributeError\u001b[0m                            Traceback (most recent call last)",
      "Cell \u001b[0;32mIn[154], line 19\u001b[0m\n\u001b[1;32m     17\u001b[0m model1 \u001b[38;5;241m=\u001b[39m model_decomposition(N)\n\u001b[1;32m     18\u001b[0m stats1 \u001b[38;5;241m=\u001b[39m run(model1, params)\n\u001b[0;32m---> 19\u001b[0m runtime_decomposition\u001b[38;5;241m.\u001b[39mappend(stats1\u001b[38;5;241m.\u001b[39mtotal_runtime)\n\u001b[1;32m     20\u001b[0m nodes_decomposition\u001b[38;5;241m.\u001b[39mappend(stats1\u001b[38;5;241m.\u001b[39mnum_nodes)\n\u001b[1;32m     22\u001b[0m model2 \u001b[38;5;241m=\u001b[39m global_constraint_model(N)\n",
      "\u001b[0;31mAttributeError\u001b[0m: 'tuple' object has no attribute 'total_runtime'"
     ]
    }
   ],
   "source": [
    "import matplotlib.pyplot as plt\n",
    "\n",
    "# Range of N values\n",
    "N_values = [100]\n",
    "\n",
    "# Initialize lists to store data\n",
    "runtime_decomposition = []\n",
    "runtime_global = []\n",
    "nodes_decomposition = []\n",
    "nodes_global = []\n",
    "\n",
    "# Define parameters (assuming a params structure or class exists)\n",
    "params = CpoParameters(TimeLimit=15, LogVerbosity='Quiet')\n",
    "\n",
    "# Run models and collect data\n",
    "for N in N_values:\n",
    "    model1 = model_decomposition(N)\n",
    "    stats1 = run(model1, params)\n",
    "    runtime_decomposition.append(stats1.total_runtime)\n",
    "    nodes_decomposition.append(stats1.num_nodes)\n",
    "\n",
    "    model2 = global_constraint_model(N)\n",
    "    stats2 = run(model2, params)\n",
    "    runtime_global.append(stats2.total_runtime)\n",
    "    nodes_global.append(stats2.num_nodes)\n",
    "\n",
    "# Plotting Runtime vs. N\n",
    "plt.figure(figsize=(10, 5))\n",
    "plt.plot(N_values, runtime_decomposition, label='Decomposition Model Runtime')\n",
    "plt.plot(N_values, runtime_global, label='Global Constraint Model Runtime')\n",
    "plt.xlabel('N (Number of Queens)')\n",
    "plt.ylabel('Runtime (seconds)')\n",
    "plt.title('Runtime Comparison')\n",
    "plt.legend()\n",
    "plt.show()\n",
    "\n",
    "# Plotting Nodes vs. N\n",
    "plt.figure(figsize=(10, 5))\n",
    "plt.plot(N_values, nodes_decomposition, label='Decomposition Model Nodes')\n",
    "plt.plot(N_values, nodes_global, label='Global Constraint Model Nodes')\n",
    "plt.xlabel('N (Number of Queens)')\n",
    "plt.ylabel('Number of Nodes')\n",
    "plt.title('Node Count Comparison')\n",
    "plt.legend()\n",
    "plt.show()\n"
   ]
  },
  {
   "cell_type": "raw",
   "metadata": {},
   "source": []
  },
  {
   "cell_type": "code",
   "execution_count": 139,
   "metadata": {},
   "outputs": [
    {
     "ename": "ValueError",
     "evalue": "x and y must have same first dimension, but have shapes (10,) and (0,)",
     "output_type": "error",
     "traceback": [
      "\u001b[0;31m---------------------------------------------------------------------------\u001b[0m",
      "\u001b[0;31mValueError\u001b[0m                                Traceback (most recent call last)",
      "Cell \u001b[0;32mIn[139], line 14\u001b[0m\n\u001b[1;32m     10\u001b[0m \u001b[38;5;66;03m# Ensure your data lists are filled before proceeding with plotting\u001b[39;00m\n\u001b[1;32m     11\u001b[0m \n\u001b[1;32m     12\u001b[0m \u001b[38;5;66;03m# Plotting Runtime vs. N\u001b[39;00m\n\u001b[1;32m     13\u001b[0m plt\u001b[38;5;241m.\u001b[39mfigure(figsize\u001b[38;5;241m=\u001b[39m(\u001b[38;5;241m10\u001b[39m, \u001b[38;5;241m5\u001b[39m))\n\u001b[0;32m---> 14\u001b[0m plt\u001b[38;5;241m.\u001b[39mplot(N_values, runtime_basic, label\u001b[38;5;241m=\u001b[39m\u001b[38;5;124m'\u001b[39m\u001b[38;5;124mBasic Model Runtime\u001b[39m\u001b[38;5;124m'\u001b[39m)\n\u001b[1;32m     15\u001b[0m plt\u001b[38;5;241m.\u001b[39mplot(N_values, runtime_global, label\u001b[38;5;241m=\u001b[39m\u001b[38;5;124m'\u001b[39m\u001b[38;5;124mGlobal Model Runtime\u001b[39m\u001b[38;5;124m'\u001b[39m)\n\u001b[1;32m     16\u001b[0m plt\u001b[38;5;241m.\u001b[39mxlabel(\u001b[38;5;124m'\u001b[39m\u001b[38;5;124mN (Number of Queens)\u001b[39m\u001b[38;5;124m'\u001b[39m)\n",
      "File \u001b[0;32m/usr/local/insa/anaconda/lib/python3.11/site-packages/matplotlib/pyplot.py:2812\u001b[0m, in \u001b[0;36mplot\u001b[0;34m(scalex, scaley, data, *args, **kwargs)\u001b[0m\n\u001b[1;32m   2810\u001b[0m \u001b[38;5;129m@_copy_docstring_and_deprecators\u001b[39m(Axes\u001b[38;5;241m.\u001b[39mplot)\n\u001b[1;32m   2811\u001b[0m \u001b[38;5;28;01mdef\u001b[39;00m \u001b[38;5;21mplot\u001b[39m(\u001b[38;5;241m*\u001b[39margs, scalex\u001b[38;5;241m=\u001b[39m\u001b[38;5;28;01mTrue\u001b[39;00m, scaley\u001b[38;5;241m=\u001b[39m\u001b[38;5;28;01mTrue\u001b[39;00m, data\u001b[38;5;241m=\u001b[39m\u001b[38;5;28;01mNone\u001b[39;00m, \u001b[38;5;241m*\u001b[39m\u001b[38;5;241m*\u001b[39mkwargs):\n\u001b[0;32m-> 2812\u001b[0m     \u001b[38;5;28;01mreturn\u001b[39;00m gca()\u001b[38;5;241m.\u001b[39mplot(\n\u001b[1;32m   2813\u001b[0m         \u001b[38;5;241m*\u001b[39margs, scalex\u001b[38;5;241m=\u001b[39mscalex, scaley\u001b[38;5;241m=\u001b[39mscaley,\n\u001b[1;32m   2814\u001b[0m         \u001b[38;5;241m*\u001b[39m\u001b[38;5;241m*\u001b[39m({\u001b[38;5;124m\"\u001b[39m\u001b[38;5;124mdata\u001b[39m\u001b[38;5;124m\"\u001b[39m: data} \u001b[38;5;28;01mif\u001b[39;00m data \u001b[38;5;129;01mis\u001b[39;00m \u001b[38;5;129;01mnot\u001b[39;00m \u001b[38;5;28;01mNone\u001b[39;00m \u001b[38;5;28;01melse\u001b[39;00m {}), \u001b[38;5;241m*\u001b[39m\u001b[38;5;241m*\u001b[39mkwargs)\n",
      "File \u001b[0;32m/usr/local/insa/anaconda/lib/python3.11/site-packages/matplotlib/axes/_axes.py:1688\u001b[0m, in \u001b[0;36mAxes.plot\u001b[0;34m(self, scalex, scaley, data, *args, **kwargs)\u001b[0m\n\u001b[1;32m   1445\u001b[0m \u001b[38;5;250m\u001b[39m\u001b[38;5;124;03m\"\"\"\u001b[39;00m\n\u001b[1;32m   1446\u001b[0m \u001b[38;5;124;03mPlot y versus x as lines and/or markers.\u001b[39;00m\n\u001b[1;32m   1447\u001b[0m \n\u001b[0;32m   (...)\u001b[0m\n\u001b[1;32m   1685\u001b[0m \u001b[38;5;124;03m(``'green'``) or hex strings (``'#008000'``).\u001b[39;00m\n\u001b[1;32m   1686\u001b[0m \u001b[38;5;124;03m\"\"\"\u001b[39;00m\n\u001b[1;32m   1687\u001b[0m kwargs \u001b[38;5;241m=\u001b[39m cbook\u001b[38;5;241m.\u001b[39mnormalize_kwargs(kwargs, mlines\u001b[38;5;241m.\u001b[39mLine2D)\n\u001b[0;32m-> 1688\u001b[0m lines \u001b[38;5;241m=\u001b[39m [\u001b[38;5;241m*\u001b[39m\u001b[38;5;28mself\u001b[39m\u001b[38;5;241m.\u001b[39m_get_lines(\u001b[38;5;241m*\u001b[39margs, data\u001b[38;5;241m=\u001b[39mdata, \u001b[38;5;241m*\u001b[39m\u001b[38;5;241m*\u001b[39mkwargs)]\n\u001b[1;32m   1689\u001b[0m \u001b[38;5;28;01mfor\u001b[39;00m line \u001b[38;5;129;01min\u001b[39;00m lines:\n\u001b[1;32m   1690\u001b[0m     \u001b[38;5;28mself\u001b[39m\u001b[38;5;241m.\u001b[39madd_line(line)\n",
      "File \u001b[0;32m/usr/local/insa/anaconda/lib/python3.11/site-packages/matplotlib/axes/_base.py:311\u001b[0m, in \u001b[0;36m_process_plot_var_args.__call__\u001b[0;34m(self, data, *args, **kwargs)\u001b[0m\n\u001b[1;32m    309\u001b[0m     this \u001b[38;5;241m+\u001b[39m\u001b[38;5;241m=\u001b[39m args[\u001b[38;5;241m0\u001b[39m],\n\u001b[1;32m    310\u001b[0m     args \u001b[38;5;241m=\u001b[39m args[\u001b[38;5;241m1\u001b[39m:]\n\u001b[0;32m--> 311\u001b[0m \u001b[38;5;28;01myield from\u001b[39;00m \u001b[38;5;28mself\u001b[39m\u001b[38;5;241m.\u001b[39m_plot_args(\n\u001b[1;32m    312\u001b[0m     this, kwargs, ambiguous_fmt_datakey\u001b[38;5;241m=\u001b[39mambiguous_fmt_datakey)\n",
      "File \u001b[0;32m/usr/local/insa/anaconda/lib/python3.11/site-packages/matplotlib/axes/_base.py:504\u001b[0m, in \u001b[0;36m_process_plot_var_args._plot_args\u001b[0;34m(self, tup, kwargs, return_kwargs, ambiguous_fmt_datakey)\u001b[0m\n\u001b[1;32m    501\u001b[0m     \u001b[38;5;28mself\u001b[39m\u001b[38;5;241m.\u001b[39maxes\u001b[38;5;241m.\u001b[39myaxis\u001b[38;5;241m.\u001b[39mupdate_units(y)\n\u001b[1;32m    503\u001b[0m \u001b[38;5;28;01mif\u001b[39;00m x\u001b[38;5;241m.\u001b[39mshape[\u001b[38;5;241m0\u001b[39m] \u001b[38;5;241m!=\u001b[39m y\u001b[38;5;241m.\u001b[39mshape[\u001b[38;5;241m0\u001b[39m]:\n\u001b[0;32m--> 504\u001b[0m     \u001b[38;5;28;01mraise\u001b[39;00m \u001b[38;5;167;01mValueError\u001b[39;00m(\u001b[38;5;124mf\u001b[39m\u001b[38;5;124m\"\u001b[39m\u001b[38;5;124mx and y must have same first dimension, but \u001b[39m\u001b[38;5;124m\"\u001b[39m\n\u001b[1;32m    505\u001b[0m                      \u001b[38;5;124mf\u001b[39m\u001b[38;5;124m\"\u001b[39m\u001b[38;5;124mhave shapes \u001b[39m\u001b[38;5;132;01m{\u001b[39;00mx\u001b[38;5;241m.\u001b[39mshape\u001b[38;5;132;01m}\u001b[39;00m\u001b[38;5;124m and \u001b[39m\u001b[38;5;132;01m{\u001b[39;00my\u001b[38;5;241m.\u001b[39mshape\u001b[38;5;132;01m}\u001b[39;00m\u001b[38;5;124m\"\u001b[39m)\n\u001b[1;32m    506\u001b[0m \u001b[38;5;28;01mif\u001b[39;00m x\u001b[38;5;241m.\u001b[39mndim \u001b[38;5;241m>\u001b[39m \u001b[38;5;241m2\u001b[39m \u001b[38;5;129;01mor\u001b[39;00m y\u001b[38;5;241m.\u001b[39mndim \u001b[38;5;241m>\u001b[39m \u001b[38;5;241m2\u001b[39m:\n\u001b[1;32m    507\u001b[0m     \u001b[38;5;28;01mraise\u001b[39;00m \u001b[38;5;167;01mValueError\u001b[39;00m(\u001b[38;5;124mf\u001b[39m\u001b[38;5;124m\"\u001b[39m\u001b[38;5;124mx and y can be no greater than 2D, but have \u001b[39m\u001b[38;5;124m\"\u001b[39m\n\u001b[1;32m    508\u001b[0m                      \u001b[38;5;124mf\u001b[39m\u001b[38;5;124m\"\u001b[39m\u001b[38;5;124mshapes \u001b[39m\u001b[38;5;132;01m{\u001b[39;00mx\u001b[38;5;241m.\u001b[39mshape\u001b[38;5;132;01m}\u001b[39;00m\u001b[38;5;124m and \u001b[39m\u001b[38;5;132;01m{\u001b[39;00my\u001b[38;5;241m.\u001b[39mshape\u001b[38;5;132;01m}\u001b[39;00m\u001b[38;5;124m\"\u001b[39m)\n",
      "\u001b[0;31mValueError\u001b[0m: x and y must have same first dimension, but have shapes (10,) and (0,)"
     ]
    },
    {
     "data": {
      "image/png": "[encoded data removed]",
      "text/plain": [
       "<Figure size 1000x500 with 1 Axes>"
      ]
     },
     "metadata": {},
     "output_type": "display_data"
    }
   ],
   "source": []
  },
  {
   "cell_type": "markdown",
   "metadata": {},
   "source": [
    "**Question:** What do you observe? Why? "
   ]
  },
  {
   "cell_type": "raw",
   "metadata": {},
   "source": []
  },
  {
   "cell_type": "markdown",
   "metadata": {},
   "source": [
    "### 2.2. Branching strategies\n",
    "\n",
    "\n",
    "**Important:** Before you start this part, please ask one of your supervisors to check on your work.\n",
    "\n",
    "A CP solver is, at the end of the day, a backtracking solver. At each node, it applies filtering (called also propagation or pruning), then make a decision about the next node to explore. This decision is a pure heuristic choice, that is, it could be a wrong decision, it is only based on intuition. \n",
    "\n",
    "In CP, a decision is, most of the times, of the type: choose an unassigned variable $x$, choose a value $v$ from the current domain of $x$, and assign $v$ to $x$. These steps require a variable heuristic and a value heuristic. This is what we call branching strategy. \n",
    "\n",
    "Branching strategies can be generic (strategies that can be used for any problem), or specific (designed for the problem at hand). In CPOptimizer, there are a number of genereic strategies offered. This concerns both variable and value heuristics. \n",
    "\n",
    "For example, if $L$ is the list of decision variables, then by declaring a search_phase as follows: \n",
    "\n",
    "```python\n",
    "SearchPhase= model.search_phase(L, \n",
    "                                varchooser=model.select_smallest(model.domain_size()),\n",
    "                                valuechooser=model.select_random_value())\n",
    "\n",
    "model.add_search_phase(SearchPhase)\n",
    "```\n",
    "\n",
    "The variable heuristic here is the one that picks the variable $x$ with the smallest domain size, and assigns a random value from its domain to it. \n",
    "\n",
    "\n",
    "Read about the different search strategies here: \n",
    "http://ibmdecisionoptimization.github.io/docplex-doc/cp/docplex.cp.modeler.py.html#search-phases\n",
    "\n",
    "\n",
    "We want to evaluate different strategies: \n",
    "- For variable evaluators, we will use \n",
    " - `domain_size()`\n",
    " - `var_impact()`\n",
    " - `var_local_impact()`\n",
    " - `var_index()`\n",
    " \n",
    "- For value evaluators, we will use \n",
    " - `value_impact()`\n",
    " - `value_index()`\n",
    " \n",
    "As for the selectors we will use : \n",
    "- `select_smallest()` \n",
    "- `select_largest()`\n",
    "\n",
    "**Question:** How many strategies are we going to evaluate? "
   ]
  },
  {
   "cell_type": "raw",
   "metadata": {},
   "source": []
  },
  {
   "cell_type": "markdown",
   "metadata": {},
   "source": [
    "**Question:** In addition to the above strategies, we will use also a pure random selection for variables and values. How can we use such a branching heuristic? "
   ]
  },
  {
   "cell_type": "raw",
   "metadata": {},
   "source": []
  },
  {
   "cell_type": "markdown",
   "metadata": {},
   "source": [
    "Using the global constraints model, run the different strategies (**all of them, and pure random**) for different values of $N$. Make sure you choose a good value of $N$ that can assess your claims of evaluation. Feel free to use any reasnable time limit. \n",
    "\n",
    "<div class=\"alert alert-block alert-danger\">\n",
    "\n",
    "**Important:** For this exercice, you must set the `SearchType` to `DepthFirst` using `SearchType=\"DepthFirst\"` when calling `run`.\n",
    "\n",
    "We will investigate deeply this choice in the next tutorial. But at this stage you should trust us and include it in the solver's parameters.\n",
    "    \n",
    "</div>\n",
    "\n",
    "**Exercice:** Present the results (rutime + number of nodes) via a table first then using plots. "
   ]
  },
  {
   "cell_type": "code",
   "execution_count": null,
   "metadata": {},
   "outputs": [],
   "source": []
  },
  {
   "cell_type": "code",
   "execution_count": null,
   "metadata": {},
   "outputs": [],
   "source": []
  },
  {
   "cell_type": "code",
   "execution_count": null,
   "metadata": {},
   "outputs": [],
   "source": []
  },
  {
   "cell_type": "code",
   "execution_count": null,
   "metadata": {},
   "outputs": [],
   "source": []
  },
  {
   "cell_type": "markdown",
   "metadata": {},
   "source": [
    "# Plots"
   ]
  },
  {
   "cell_type": "code",
   "execution_count": null,
   "metadata": {},
   "outputs": [],
   "source": []
  },
  {
   "cell_type": "markdown",
   "metadata": {},
   "source": [
    "# Compare value chooser"
   ]
  },
  {
   "cell_type": "markdown",
   "metadata": {},
   "source": [
    "## var chooser = select smallest"
   ]
  },
  {
   "cell_type": "code",
   "execution_count": null,
   "metadata": {},
   "outputs": [],
   "source": []
  },
  {
   "cell_type": "code",
   "execution_count": null,
   "metadata": {},
   "outputs": [],
   "source": []
  },
  {
   "cell_type": "code",
   "execution_count": null,
   "metadata": {},
   "outputs": [],
   "source": []
  },
  {
   "cell_type": "code",
   "execution_count": null,
   "metadata": {},
   "outputs": [],
   "source": []
  },
  {
   "cell_type": "markdown",
   "metadata": {},
   "source": [
    "## varchooser = select largest"
   ]
  },
  {
   "cell_type": "code",
   "execution_count": null,
   "metadata": {},
   "outputs": [],
   "source": []
  },
  {
   "cell_type": "code",
   "execution_count": null,
   "metadata": {},
   "outputs": [],
   "source": []
  },
  {
   "cell_type": "code",
   "execution_count": null,
   "metadata": {},
   "outputs": [],
   "source": []
  },
  {
   "cell_type": "code",
   "execution_count": null,
   "metadata": {},
   "outputs": [],
   "source": []
  },
  {
   "cell_type": "markdown",
   "metadata": {},
   "source": [
    "# Compare var chooser"
   ]
  },
  {
   "cell_type": "markdown",
   "metadata": {},
   "source": [
    "## Value chooser = smallest value impact"
   ]
  },
  {
   "cell_type": "code",
   "execution_count": null,
   "metadata": {},
   "outputs": [],
   "source": []
  },
  {
   "cell_type": "markdown",
   "metadata": {},
   "source": [
    "## Value chooser = smallest value index"
   ]
  },
  {
   "cell_type": "code",
   "execution_count": null,
   "metadata": {},
   "outputs": [],
   "source": []
  },
  {
   "cell_type": "markdown",
   "metadata": {},
   "source": [
    "## Value chooser = largest value impact"
   ]
  },
  {
   "cell_type": "code",
   "execution_count": null,
   "metadata": {},
   "outputs": [],
   "source": []
  },
  {
   "cell_type": "markdown",
   "metadata": {},
   "source": [
    "## Value chooser = larget value index"
   ]
  },
  {
   "cell_type": "code",
   "execution_count": null,
   "metadata": {},
   "outputs": [],
   "source": []
  },
  {
   "cell_type": "markdown",
   "metadata": {},
   "source": [
    "## Random select"
   ]
  },
  {
   "cell_type": "code",
   "execution_count": null,
   "metadata": {},
   "outputs": [],
   "source": []
  },
  {
   "cell_type": "code",
   "execution_count": null,
   "metadata": {},
   "outputs": [],
   "source": []
  },
  {
   "cell_type": "markdown",
   "metadata": {},
   "source": [
    "**Question:** Is this what you expect? Is the choice of the branching strategy important? Justify."
   ]
  },
  {
   "cell_type": "markdown",
   "metadata": {},
   "source": [
    "On attendait plus de variations et moins de timeout : presque toutes les stratégies ont un timeout après n=50"
   ]
  },
  {
   "cell_type": "markdown",
   "metadata": {},
   "source": [
    "**Question:** What is more important, the variable ordering or the value ordering choice? Justify."
   ]
  },
  {
   "cell_type": "markdown",
   "metadata": {},
   "source": [
    "Pour un value chooser donné, le choix du var chooser impacte plus les résultats. Alors que sur les plots on remarque que pour un var chooser donné, le value chooser ne change rien aux résultats."
   ]
  },
  {
   "cell_type": "markdown",
   "metadata": {},
   "source": [
    "**Question:** What is the best variable ordering choice? Justify."
   ]
  },
  {
   "cell_type": "markdown",
   "metadata": {},
   "source": [
    "Le meilleur semble être le smallest domain size : il a le moins de timeout, le moins de noeuds, et le plus de solutions feasible (les autres ont trop de unknown)"
   ]
  },
  {
   "cell_type": "markdown",
   "metadata": {},
   "source": [
    "**Question:** What is the best value ordering choice? Justify."
   ]
  },
  {
   "cell_type": "markdown",
   "metadata": {},
   "source": [
    "Pas de différences observées"
   ]
  },
  {
   "cell_type": "markdown",
   "metadata": {},
   "source": [
    "**Question:** What is a good branching overall? Any thoughts why this is the case? Justify."
   ]
  },
  {
   "cell_type": "markdown",
   "metadata": {},
   "source": [
    "Le random est étonnement plutôt bon dans notre cas"
   ]
  },
  {
   "cell_type": "markdown",
   "metadata": {},
   "source": [
    "**Question:** Did you observe an opposite behaviour of heuristics betwen the runtime and the number of nodes? \n",
    "For instance, is there a strategy that is faster than others to solve the problem but requires a larger number of nodes? \n",
    "And conversely, is there a heuristic that is slow to solve the problem than others but uses less nodes? \n",
    "If you observe this, why is this happening?"
   ]
  },
  {
   "cell_type": "raw",
   "metadata": {},
   "source": []
  },
  {
   "cell_type": "markdown",
   "metadata": {},
   "source": [
    "## 3. Conclusion\n",
    "\n",
    "**Question:** What did you learn today? "
   ]
  },
  {
   "cell_type": "markdown",
   "metadata": {},
   "source": []
  },
  {
   "cell_type": "markdown",
   "metadata": {},
   "source": [
    "<div class=\"alert alert-block alert-danger\"></div>"
   ]
  }
 ],
 "metadata": {
  "kernelspec": {
   "display_name": "Python 3 (ipykernel)",
   "language": "python",
   "name": "python3"
  },
  "language_info": {
   "codemirror_mode": {
    "name": "ipython",
    "version": 3
   },
   "file_extension": ".py",
   "mimetype": "text/x-python",
   "name": "python",
   "nbconvert_exporter": "python",
   "pygments_lexer": "ipython3",
   "version": "3.11.3"
  }
 },
 "nbformat": 4,
 "nbformat_minor": 2
}
